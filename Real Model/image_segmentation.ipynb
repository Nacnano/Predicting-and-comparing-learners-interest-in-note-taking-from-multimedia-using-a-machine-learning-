{
 "cells": [
  {
   "cell_type": "code",
   "execution_count": null,
   "metadata": {},
   "outputs": [],
   "source": [
    "!git clone https://github.com/akTwelve/Mask_RCNN.git updated_mask_rcnn"
   ]
  },
  {
   "cell_type": "code",
   "execution_count": null,
   "metadata": {},
   "outputs": [],
   "source": [
    "!pip install -r updated_mask_rcnn/requirements.txt\n",
    "!pip install pycocotools"
   ]
  },
  {
   "cell_type": "code",
   "execution_count": null,
   "metadata": {},
   "outputs": [],
   "source": [
    "%cd RE_Mask_RCNN\n",
    "\n",
    "!python /home/s6207967/RE_Mask_RCNN/updated_mask_rcnn/setup.py install"
   ]
  },
  {
   "cell_type": "code",
   "execution_count": null,
   "metadata": {},
   "outputs": [],
   "source": [
    "%matplotlib inline"
   ]
  },
  {
   "cell_type": "code",
   "execution_count": null,
   "metadata": {},
   "outputs": [],
   "source": [
    "import os\n",
    "import sys\n",
    "import numpy as np\n",
    "import skimage.io\n",
    "import matplotlib\n",
    "import matplotlib.pyplot as plt\n",
    "# Root directory of the project\n",
    "ROOT_DIR = os.path.abspath(\"/home/s6207967/RE_Mask_RCNN\") ## PATH_TO_YOUR_WORK_DIRECTORY\n",
    "\n",
    "# Import Mask RCNN from the Github installation\n",
    "sys.path.append(ROOT_DIR)  # To find local version\n",
    "from mrcnn import utils\n",
    "import mrcnn.model as modellib\n",
    "from mrcnn import visualize\n",
    "from mrcnn.config import Config\n",
    "from mrcnn.model import MaskRCNN\n",
    "from mrcnn.visualize import display_instances\n",
    "from mrcnn.model import log\n",
    "\n",
    "from keras.preprocessing.image import load_img\n",
    "from keras.preprocessing.image import img_to_array\n",
    "\n",
    "\n",
    "# Import COCO config for the dataset\n",
    "sys.path.append(os.path.join(ROOT_DIR, \"samples/coco/\"))  # To find local version of coco\n",
    "from RE_Mask_RCNN.updated_mask_rcnn.samples.coco import coco\n",
    "\n",
    "# Directory to save logs and trained model\n",
    "MODEL_DIR = os.path.join(ROOT_DIR, \"logs\")\n",
    "\n",
    "# Local path to your trained weights file\n",
    "COCO_MODEL_PATH = os.path.join(ROOT_DIR, \"updated_mask_rcnn/samples/mask_rcnn_coco.h5\")"
   ]
  },
  {
   "cell_type": "code",
   "execution_count": null,
   "metadata": {},
   "outputs": [],
   "source": [
    "class InferenceConfig(coco.CocoConfig):\n",
    "    GPU_COUNT = 1\n",
    "    IMAGES_PER_GPU = 1\n",
    "    \n",
    "config = InferenceConfig()"
   ]
  },
  {
   "cell_type": "code",
   "execution_count": null,
   "metadata": {},
   "outputs": [],
   "source": [
    "# Create model object in inference mode.\n",
    "model = modellib.MaskRCNN(mode=\"inference\", model_dir=MODEL_DIR, config=config)\n",
    "\n",
    "# Load weights trained on the COCO dataset \n",
    "model.load_weights(COCO_MODEL_PATH, by_name=True)\n",
    "\n",
    "# # Load the image for current task  \n",
    "# image_path = \"/home/s6207967/RE_Mask_RCNN/updated_mask_rcnn/images/monks.jpg\"\n",
    "# img = load_img(image_path)\n",
    "# img = img_to_array(img)\n",
    "\n",
    "# # Make prediction\n",
    "# results = model.detect([img], verbose=1)"
   ]
  },
  {
   "cell_type": "code",
   "execution_count": null,
   "metadata": {},
   "outputs": [],
   "source": [
    "# Load the image for current task  \n",
    "image_path = \"/home/s6207967/RE_Mask_RCNN/image1/11.jpg\"\n",
    "img = load_img(image_path)\n",
    "img = img_to_array(img)\n",
    "\n",
    "# Make prediction\n",
    "results = model.detect([img], verbose=1)"
   ]
  },
  {
   "cell_type": "code",
   "execution_count": null,
   "metadata": {},
   "outputs": [],
   "source": [
    "class_names = ['BG', 'person', 'bicycle', 'car', 'motorcycle', 'airplane',\n",
    "               'bus', 'train', 'truck', 'boat', 'traffic light',\n",
    "               'fire hydrant', 'stop sign', 'parking meter', 'bench', 'bird',\n",
    "               'cat', 'dog', 'horse', 'sheep', 'cow', 'elephant', 'bear',\n",
    "               'zebra', 'giraffe', 'backpack', 'umbrella', 'handbag', 'tie',\n",
    "               'suitcase', 'frisbee', 'skis', 'snowboard', 'sports ball',\n",
    "               'kite', 'baseball bat', 'baseball glove', 'skateboard',\n",
    "               'surfboard', 'tennis racket', 'bottle', 'wine glass', 'cup',\n",
    "               'fork', 'knife', 'spoon', 'bowl', 'banana', 'apple',\n",
    "               'sandwich', 'orange', 'broccoli', 'carrot', 'hot dog', 'pizza',\n",
    "               'donut', 'cake', 'chair', 'couch', 'potted plant', 'bed',\n",
    "               'dining table', 'toilet', 'tv', 'laptop', 'mouse', 'remote',\n",
    "               'keyboard', 'cell phone', 'microwave', 'oven', 'toaster',\n",
    "               'sink', 'refrigerator', 'book', 'clock', 'vase', 'scissors',\n",
    "               'teddy bear', 'hair drier', 'toothbrush']"
   ]
  },
  {
   "cell_type": "code",
   "execution_count": null,
   "metadata": {},
   "outputs": [],
   "source": [
    "# from mrcnn.visualize import display_images\n",
    "# display_images([img])\n",
    "# plt.imshow(img.astype(np.uint8))\n",
    "# plt.show()\n",
    "\n",
    "%matplotlib inline\n",
    "\n",
    "import matplotlib.pyplot as plt\n",
    "import matplotlib.image as mpimg\n",
    "img = mpimg.imread(image_path)\n",
    "imgplot = plt.imshow(img)\n",
    "plt.show()"
   ]
  },
  {
   "cell_type": "code",
   "execution_count": null,
   "metadata": {},
   "outputs": [],
   "source": [
    "# get dictionary for first prediction\n",
    "%matplotlib inline\n",
    "image_results = results[0]\n",
    "\n",
    "box, mask, classID, score = image_results['rois'], image_results['masks'], image_results['class_ids'], image_results['scores']\n",
    "\n",
    "print(box)\n",
    "print(classID)\n",
    "print(score)\n",
    "\n",
    "for ID in classID:\n",
    "    print(class_names[ID])\n",
    "\n",
    "# show photo with bounding boxes, masks, class labels and scores\n",
    "fig_images, cur_ax = plt.subplots(figsize=(15, 15))\n",
    "display_instances(img, box, mask, classID, class_names, score, ax=cur_ax)\n",
    "# display_instances(img, box, mask, classID, class_names, score)"
   ]
  },
  {
   "cell_type": "code",
   "execution_count": null,
   "metadata": {},
   "outputs": [],
   "source": [
    "import pandas as pd\n",
    "# print(results)\n",
    "\n",
    "df1=pd.DataFrame(box)\n",
    "df1.columns =['x1','y1','x2','y2']\n",
    "\n",
    "df1['score'] = score\n",
    "df1['classID'] = classID\n",
    "\n",
    "print(df1)"
   ]
  },
  {
   "cell_type": "code",
   "execution_count": null,
   "metadata": {},
   "outputs": [],
   "source": [
    "maskt=mask.transpose()\n",
    "\n",
    "cntmask=[]\n",
    "for i in range(len(maskt)):\n",
    "    print(i)\n",
    "    sum=0\n",
    "    \n",
    "    for x in maskt[i]:\n",
    "        for y in x:\n",
    "            sum+=y\n",
    "    cntmask.append(sum)\n",
    "    print(cntmask)"
   ]
  },
  {
   "cell_type": "code",
   "execution_count": null,
   "metadata": {},
   "outputs": [],
   "source": [
    "df1['cntmask'] = cntmask\n",
    "\n",
    "listdf = []\n",
    "listdf.append(df1)"
   ]
  },
  {
   "cell_type": "code",
   "execution_count": null,
   "metadata": {},
   "outputs": [],
   "source": [
    "# pd.concat(listdf).to_csv('listdf')"
   ]
  },
  {
   "cell_type": "markdown",
   "metadata": {},
   "source": [
    "REAL CODE HERE"
   ]
  }
 ],
 "metadata": {
  "kernelspec": {
   "display_name": "Python 3",
   "language": "python",
   "name": "python3"
  },
  "language_info": {
   "codemirror_mode": {
    "name": "ipython",
    "version": 3
   },
   "file_extension": ".py",
   "mimetype": "text/x-python",
   "name": "python",
   "nbconvert_exporter": "python",
   "pygments_lexer": "ipython3"
  }
 },
 "nbformat": 4,
 "nbformat_minor": 4
}
