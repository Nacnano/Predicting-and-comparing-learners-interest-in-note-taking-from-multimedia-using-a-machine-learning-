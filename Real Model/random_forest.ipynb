{
 "cells": [
  {
   "cell_type": "code",
   "execution_count": 1,
   "metadata": {},
   "outputs": [
    {
     "name": "stdout",
     "output_type": "stream",
     "text": [
      "shape (21, 11)\n",
      "describe          obj_num   box_area  mask_area  avg_score       avg_x1       avg_y1  \\\n",
      "count  21.000000  21.000000  21.000000  21.000000    21.000000    21.000000   \n",
      "mean    5.380952   0.313335   0.202044   0.714795   394.678896   738.947127   \n",
      "std    12.455827   0.377170   0.261586   0.362223   276.468639   318.625989   \n",
      "min     0.000000   0.000000   0.000000   0.000000     0.000000    17.000000   \n",
      "25%     1.000000   0.008362   0.005723   0.755230   184.000000   582.000000   \n",
      "50%     2.000000   0.108214   0.074081   0.856244   446.000000   804.250000   \n",
      "75%     3.000000   0.580952   0.283138   0.914556   540.000000   980.000000   \n",
      "max    57.000000   1.031106   0.874060   0.999272  1005.000000  1387.500000   \n",
      "\n",
      "            avg_x2       avg_y2    avg_width   avg_height       prob  \n",
      "count    21.000000    21.000000    21.000000    21.000000  21.000000  \n",
      "mean    778.193452  1158.982315   383.514556   420.035187   0.546798  \n",
      "std     232.045049   310.104553   360.855131   532.060820   0.232800  \n",
      "min     238.333333   705.846154     0.000000     0.000000   0.155172  \n",
      "25%     558.000000   980.000000    74.500000    99.500000   0.362069  \n",
      "50%     784.333333  1048.666667   347.500000   195.000000   0.603448  \n",
      "75%     997.000000  1372.000000   520.500000   707.000000   0.758621  \n",
      "max    1079.500000  1840.000000  1062.000000  1823.000000   0.879310  \n",
      "    obj_num  box_area  mask_area  avg_score       avg_x1       avg_y1  \\\n",
      "0       1.0  0.914600   0.874060   0.982490     0.000000    17.000000   \n",
      "1       2.0  0.081675   0.056096   0.777389   446.000000   582.000000   \n",
      "2       0.0  0.000000   0.000000   0.000000   540.000000   980.000000   \n",
      "3       4.0  0.108214   0.074081   0.846622   324.000000   804.250000   \n",
      "4       3.0  0.021978   0.015675   0.860186   141.333333  1024.333333   \n",
      "5       0.0  0.000000   0.000000   0.000000   540.000000   980.000000   \n",
      "6       1.0  0.792177   0.662684   0.740095     0.000000   113.000000   \n",
      "7       2.0  0.008362   0.005723   0.755230  1005.000000  1387.500000   \n",
      "8       1.0  0.336333   0.180630   0.997563    42.000000   665.000000   \n",
      "9       0.0  0.000000   0.000000   0.000000   540.000000   980.000000   \n",
      "10      1.0  0.384776   0.283138   0.840630   111.000000   526.000000   \n",
      "11      2.0  0.147523   0.081105   0.999272   476.500000   797.000000   \n",
      "12     13.0  0.801075   0.504616   0.906094   317.307692   484.692308   \n",
      "13     15.0  1.015929   0.464842   0.903396   200.133333   826.666667   \n",
      "14      1.0  0.002328   0.001628   0.856244   943.000000   829.000000   \n",
      "15      0.0  0.000000   0.000000   0.000000   540.000000   980.000000   \n",
      "16      2.0  0.580952   0.281732   0.914767   184.000000   315.500000   \n",
      "17      3.0  0.047395   0.026292   0.845929   566.333333   871.000000   \n",
      "18      2.0  0.059208   0.027775   0.914556   467.000000   887.000000   \n",
      "19      3.0  1.031106   0.570317   0.956914   299.666667   715.333333   \n",
      "20     57.0  0.246405   0.132522   0.913320   604.982456   752.614035   \n",
      "\n",
      "         avg_x2       avg_y2    avg_width   avg_height      prob  \n",
      "0   1062.000000  1840.000000  1062.000000  1823.000000  0.879310  \n",
      "1    889.500000   777.000000   443.500000   195.000000  0.827586  \n",
      "2    540.000000   980.000000     0.000000     0.000000  0.724138  \n",
      "3    558.000000  1036.500000   234.000000   232.250000  0.620690  \n",
      "4    238.333333  1159.666667    97.000000   135.333333  0.603448  \n",
      "5    540.000000   980.000000     0.000000     0.000000  0.362069  \n",
      "6   1020.000000  1757.000000  1020.000000  1644.000000  0.465517  \n",
      "7   1079.500000  1487.000000    74.500000    99.500000  0.758621  \n",
      "8   1049.000000  1372.000000  1007.000000   707.000000  0.275862  \n",
      "9    540.000000   980.000000     0.000000     0.000000  0.172414  \n",
      "10  1010.000000  1432.000000   899.000000   906.000000  0.586207  \n",
      "11   997.000000  1097.000000   520.500000   300.000000  0.793103  \n",
      "12   689.692308   705.846154   372.384615   221.153846  0.620690  \n",
      "13   673.800000  1048.466667   473.666667   221.800000  0.189655  \n",
      "14   987.000000   941.000000    44.000000   112.000000  0.258621  \n",
      "15   540.000000   980.000000     0.000000     0.000000  0.758621  \n",
      "16   674.000000  1268.000000   490.000000   952.500000  0.637931  \n",
      "17   784.333333  1048.666667   218.000000   177.666667  0.448276  \n",
      "18   814.500000  1066.500000   347.500000   179.500000  0.155172  \n",
      "19   909.666667  1566.333333   610.000000   851.000000  0.793103  \n",
      "20   745.736842   815.649123   140.754386    63.035088  0.551724  \n"
     ]
    }
   ],
   "source": [
    "import pandas as pd\n",
    "\n",
    "features = pd.read_csv('features1')\n",
    "\n",
    "# features = features.drop(features.columns[0], axis=1)\n",
    "features = features.drop(features.columns[0], axis=1)\n",
    "print('shape', features.shape)\n",
    "print('describe', features.describe())\n",
    "\n",
    "print(features)"
   ]
  },
  {
   "cell_type": "code",
   "execution_count": 2,
   "metadata": {},
   "outputs": [
    {
     "name": "stdout",
     "output_type": "stream",
     "text": [
      "Index(['obj_num', 'box_area', 'mask_area', 'avg_score', 'avg_x1', 'avg_y1',\n",
      "       'avg_x2', 'avg_y2', 'avg_width', 'avg_height', 'prob'],\n",
      "      dtype='object')\n"
     ]
    }
   ],
   "source": [
    "features = pd.get_dummies(features)\n",
    "\n",
    "print(features.columns)"
   ]
  },
  {
   "cell_type": "code",
   "execution_count": 3,
   "metadata": {},
   "outputs": [],
   "source": [
    "import numpy as np\n",
    "\n",
    "labels = np.array(features['prob'])\n",
    "\n",
    "features= features.drop('prob', axis = 1)\n",
    "\n",
    "\n",
    "feature_list = list(features.columns)\n",
    "features = np.array(features)"
   ]
  },
  {
   "cell_type": "code",
   "execution_count": 4,
   "metadata": {},
   "outputs": [],
   "source": [
    "from sklearn.model_selection import train_test_split\n",
    "\n",
    "train_features, test_features, train_labels, test_labels = train_test_split(features, labels, test_size = 0.25, random_state = 42)"
   ]
  },
  {
   "cell_type": "code",
   "execution_count": 5,
   "metadata": {},
   "outputs": [],
   "source": [
    "# # The baseline predictions are the historical averages\n",
    "# baseline_preds = test_features[:, feature_list.index('box_area')]\n",
    "\n",
    "# # Baseline errors, and display average baseline error\n",
    "# baseline_errors = abs(baseline_preds - test_labels)\n",
    "# print('Average baseline error: ', round(np.mean(baseline_errors), 2))"
   ]
  },
  {
   "cell_type": "code",
   "execution_count": 6,
   "metadata": {},
   "outputs": [],
   "source": [
    "from sklearn.ensemble import RandomForestRegressor\n",
    "\n",
    "rf = RandomForestRegressor(n_estimators = 1000, random_state = 1)\n",
    "\n",
    "rf.fit(train_features, train_labels);"
   ]
  },
  {
   "cell_type": "code",
   "execution_count": 7,
   "metadata": {},
   "outputs": [
    {
     "name": "stdout",
     "output_type": "stream",
     "text": [
      "Mean Absolute Error: 0.25\n",
      "[0.60210345 0.36144138 0.43327849 0.47911379 0.64188046 0.43327849]\n",
      "[0.87931034 0.44827586 0.75862069 0.82758621 0.27586207 0.36206897]\n"
     ]
    }
   ],
   "source": [
    "predictions = rf.predict(test_features)\n",
    "errors = abs(predictions - test_labels)\n",
    "\n",
    "print('Mean Absolute Error:', round(np.mean(errors), 2))\n",
    "print(predictions[:])\n",
    "print(test_labels[:])"
   ]
  },
  {
   "cell_type": "code",
   "execution_count": 8,
   "metadata": {},
   "outputs": [
    {
     "name": "stdout",
     "output_type": "stream",
     "text": [
      "Accuracy: 51.96 %.\n"
     ]
    }
   ],
   "source": [
    "mape = 100 * (errors / test_labels)\n",
    "\n",
    "accuracy = 100 - np.mean(mape)\n",
    "print('Accuracy:', round(accuracy, 2), '%.')"
   ]
  },
  {
   "cell_type": "code",
   "execution_count": 9,
   "metadata": {},
   "outputs": [],
   "source": [
    "# # Import tools needed for visualization\n",
    "# from sklearn.tree import export_graphviz\n",
    "# import pydot\n",
    "# # Pull out one tree from the forest\n",
    "# tree = rf.estimators_[5]\n",
    "# # Export the image to a dot file\n",
    "# export_graphviz(tree, out_file = 'tree.dot', feature_names = feature_list, rounded = True, precision = 1)\n",
    "\n",
    "# # Use dot file to create a graph\n",
    "# (graph, ) = pydot.graph_from_dot_file('tree.dot')\n",
    "\n",
    "# # Write graph to a png file\n",
    "# graph.write_png('tree.png')"
   ]
  },
  {
   "cell_type": "code",
   "execution_count": 10,
   "metadata": {},
   "outputs": [],
   "source": [
    "# # Limit depth of tree to 3 levels\n",
    "# rf_small = RandomForestRegressor(n_estimators=10, max_depth = 3)\n",
    "# rf_small.fit(train_features, train_labels)\n",
    "# # Extract the small tree\n",
    "# tree_small = rf_small.estimators_[5]\n",
    "# # Save the tree as a png image\n",
    "# export_graphviz(tree_small, out_file = 'small_tree.dot', feature_names = feature_list, rounded = True, precision = 1)\n",
    "# (graph, ) = pydot.graph_from_dot_file('small_tree.dot')\n",
    "# graph.write_png('small_tree.png');"
   ]
  },
  {
   "cell_type": "code",
   "execution_count": 11,
   "metadata": {},
   "outputs": [
    {
     "name": "stdout",
     "output_type": "stream",
     "text": [
      "Variable: avg_y2               Importance: 0.24\n",
      "Variable: avg_y1               Importance: 0.18\n",
      "Variable: avg_score            Importance: 0.12\n",
      "Variable: avg_x1               Importance: 0.1\n",
      "Variable: avg_x2               Importance: 0.09\n",
      "Variable: obj_num              Importance: 0.08\n",
      "Variable: box_area             Importance: 0.08\n",
      "Variable: mask_area            Importance: 0.05\n",
      "Variable: avg_width            Importance: 0.04\n",
      "Variable: avg_height           Importance: 0.03\n"
     ]
    }
   ],
   "source": [
    "importances = list(rf.feature_importances_)\n",
    "\n",
    "feature_importances = [(feature, round(importance, 2)) for feature, importance in zip(feature_list, importances)]\n",
    "feature_importances = sorted(feature_importances, key = lambda x: x[1], reverse = True)\n",
    "\n",
    "[print('Variable: {:20} Importance: {}'.format(*pair)) for pair in feature_importances];"
   ]
  },
  {
   "cell_type": "code",
   "execution_count": 12,
   "metadata": {},
   "outputs": [
    {
     "data": {
      "text/plain": [
       "Text(0.5, 1.0, 'Variable Importances')"
      ]
     },
     "execution_count": 12,
     "metadata": {},
     "output_type": "execute_result"
    },
    {
     "data": {
      "image/png": "[encoded data removed]",
      "text/plain": [
       "<Figure size 432x288 with 1 Axes>"
      ]
     },
     "metadata": {},
     "output_type": "display_data"
    }
   ],
   "source": [
    "import matplotlib.pyplot as plt\n",
    "%matplotlib inline\n",
    "\n",
    "plt.style.use('fivethirtyeight')\n",
    "\n",
    "x_values = list(range(len(importances)))\n",
    "\n",
    "plt.bar(x_values, importances, orientation = 'vertical')\n",
    "plt.xticks(x_values, feature_list, rotation='vertical')\n",
    "\n",
    "plt.ylabel('Importance')\n",
    "plt.xlabel('Variable')\n",
    "plt.title('Variable Importances')"
   ]
  },
  {
   "cell_type": "code",
   "execution_count": 13,
   "metadata": {},
   "outputs": [
    {
     "name": "stdout",
     "output_type": "stream",
     "text": [
      "[0.87931034 0.44827586 0.75862069 0.82758621 0.27586207 0.36206897]\n",
      "[0.60210345 0.36144138 0.43327849 0.47911379 0.64188046 0.43327849]\n"
     ]
    },
    {
     "data": {
      "text/plain": [
       "Text(0.5, 1.0, 'Actual and Predicted Values')"
      ]
     },
     "execution_count": 13,
     "metadata": {},
     "output_type": "execute_result"
    },
    {
     "data": {
      "image/png": "[encoded data removed]",
      "text/plain": [
       "<Figure size 432x288 with 1 Axes>"
      ]
     },
     "metadata": {},
     "output_type": "display_data"
    }
   ],
   "source": [
    "numlist=range(0,len(predictions),1)\n",
    "print(test_labels)\n",
    "print(predictions)\n",
    "true_data = pd.DataFrame(data = {'image': numlist, 'actual': test_labels})\n",
    "predictions_data = pd.DataFrame(data = {'image': numlist, 'prediction': predictions})\n",
    "\n",
    "plt.plot(true_data.index, true_data['actual'], 'bo', label = 'actual')\n",
    "plt.plot(predictions_data.index, predictions_data['prediction'], 'ro', label = 'prediction')\n",
    "plt.legend()\n",
    "\n",
    "plt.xlabel(\"Image\")\n",
    "plt.ylabel('Probability')\n",
    "plt.title('Actual and Predicted Values')"
   ]
  },
  {
   "cell_type": "code",
   "execution_count": 14,
   "metadata": {},
   "outputs": [
    {
     "name": "stdout",
     "output_type": "stream",
     "text": [
      "Accuracy for Random Forest 27.407563433766303\n"
     ]
    }
   ],
   "source": [
    "import sklearn\n",
    "import math\n",
    "mse = sklearn.metrics.mean_squared_error(test_labels, predictions)\n",
    "rmse = math.sqrt(mse)\n",
    "print('Accuracy for Random Forest',100*max(0,rmse)) "
   ]
  }
 ],
 "metadata": {
  "kernelspec": {
   "display_name": "Python 3",
   "language": "python",
   "name": "python3"
  },
  "language_info": {
   "codemirror_mode": {
    "name": "ipython",
    "version": 3
   },
   "file_extension": ".py",
   "mimetype": "text/x-python",
   "name": "python",
   "nbconvert_exporter": "python",
   "pygments_lexer": "ipython3",
   "version": "3.7.6"
  }
 },
 "nbformat": 4,
 "nbformat_minor": 4
}
