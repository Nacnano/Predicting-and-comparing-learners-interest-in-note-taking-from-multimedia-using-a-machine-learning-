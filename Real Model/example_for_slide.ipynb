{
 "cells": [
  {
   "cell_type": "code",
   "execution_count": null,
   "metadata": {},
   "outputs": [],
   "source": [
    "import pandas as pd\n",
    "\n",
    "target = pd.read_excel(\"/home/s6207967/RE_Mask_RCNN/prob/prob2.xlsx\")\n",
    "df = pd.read_csv(\"/home/s6207967/RE_Mask_RCNN/segmented2/df2_15\")\n",
    "feature = pd.read_csv(\"/home/s6207967/RE_Mask_RCNN/features2\")\n",
    "print(target)\n",
    "print(df)\n",
    "print(feature)"
   ]
  }
 ],
 "metadata": {
  "kernelspec": {
   "display_name": "Python 3",
   "language": "python",
   "name": "python3"
  },
  "language_info": {
   "codemirror_mode": {
    "name": "ipython",
    "version": 3
   },
   "file_extension": ".py",
   "mimetype": "text/x-python",
   "name": "python",
   "nbconvert_exporter": "python",
   "pygments_lexer": "ipython3"
  }
 },
 "nbformat": 4,
 "nbformat_minor": 4
}
